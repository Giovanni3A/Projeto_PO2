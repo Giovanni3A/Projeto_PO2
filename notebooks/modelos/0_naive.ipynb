{
 "cells": [
  {
   "cell_type": "markdown",
   "metadata": {
    "toc": true
   },
   "source": [
    "<h1>Table of Contents<span class=\"tocSkip\"></span></h1>\n",
    "<div class=\"toc\"><ul class=\"toc-item\"><li><span><a href=\"#Import-de-pacotes\" data-toc-modified-id=\"Import-de-pacotes-1\"><span class=\"toc-item-num\">1&nbsp;&nbsp;</span>Import de pacotes</a></span></li><li><span><a href=\"#Leitura-do-dado-tratado\" data-toc-modified-id=\"Leitura-do-dado-tratado-2\"><span class=\"toc-item-num\">2&nbsp;&nbsp;</span>Leitura do dado tratado</a></span></li><li><span><a href=\"#Modelo-naive\" data-toc-modified-id=\"Modelo-naive-3\"><span class=\"toc-item-num\">3&nbsp;&nbsp;</span>Modelo naive</a></span><ul class=\"toc-item\"><li><span><a href=\"#Exemplo\" data-toc-modified-id=\"Exemplo-3.1\"><span class=\"toc-item-num\">3.1&nbsp;&nbsp;</span>Exemplo</a></span></li><li><span><a href=\"#Exemplo-iterativo-em-t\" data-toc-modified-id=\"Exemplo-iterativo-em-t-3.2\"><span class=\"toc-item-num\">3.2&nbsp;&nbsp;</span>Exemplo iterativo em t</a></span></li></ul></li></ul></div>"
   ]
  },
  {
   "cell_type": "markdown",
   "metadata": {},
   "source": [
    "## Import de pacotes"
   ]
  },
  {
   "cell_type": "code",
   "execution_count": 48,
   "metadata": {},
   "outputs": [
    {
     "data": {
      "text/html": [
       "        <script type=\"text/javascript\">\n",
       "        window.PlotlyConfig = {MathJaxConfig: 'local'};\n",
       "        if (window.MathJax) {MathJax.Hub.Config({SVG: {font: \"STIX-Web\"}});}\n",
       "        if (typeof require !== 'undefined') {\n",
       "        require.undef(\"plotly\");\n",
       "        requirejs.config({\n",
       "            paths: {\n",
       "                'plotly': ['https://cdn.plot.ly/plotly-latest.min']\n",
       "            }\n",
       "        });\n",
       "        require(['plotly'], function(Plotly) {\n",
       "            window._Plotly = Plotly;\n",
       "        });\n",
       "        }\n",
       "        </script>\n",
       "        "
      ]
     },
     "metadata": {},
     "output_type": "display_data"
    }
   ],
   "source": [
    "import os,sys\n",
    "import datetime\n",
    "import numpy as np\n",
    "import pandas as pd\n",
    "import matplotlib.pyplot as plt\n",
    "from tqdm.notebook import tqdm\n",
    "from math import factorial\n",
    "\n",
    "from scipy import stats\n",
    "\n",
    "import plotly.graph_objs as go\n",
    "import plotly.express as px\n",
    "from plotly.offline import init_notebook_mode\n",
    "init_notebook_mode(connected=True)"
   ]
  },
  {
   "cell_type": "code",
   "execution_count": 3,
   "metadata": {},
   "outputs": [],
   "source": [
    "from ortools.linear_solver import pywraplp\n",
    "from ortools.sat.python import cp_model\n",
    "\n",
    "sys.path.append('../..')\n",
    "from config import *\n",
    "from utils import *"
   ]
  },
  {
   "cell_type": "markdown",
   "metadata": {},
   "source": [
    "## Leitura do dado tratado"
   ]
  },
  {
   "cell_type": "code",
   "execution_count": 4,
   "metadata": {
    "scrolled": true
   },
   "outputs": [],
   "source": [
    "df = pd.read_pickle(os.path.join(TRTD_DATA_PATH,'eventos.pkl'))"
   ]
  },
  {
   "cell_type": "markdown",
   "metadata": {},
   "source": [
    "## Modelo naive"
   ]
  },
  {
   "cell_type": "code",
   "execution_count": 105,
   "metadata": {},
   "outputs": [],
   "source": [
    "def likelihood(d,mu):\n",
    "    return sum([mu - y*np.log(mu) for y in d])\n",
    "\n",
    "class NaiveModel:\n",
    "    def __init__(self):\n",
    "        self.lambda_ = None\n",
    "        self.dist = None\n",
    "        self.likelihood = None\n",
    "    \n",
    "    def fit(self,s):\n",
    "        self.dist = s\n",
    "        self.lambda_ = s.mean()\n",
    "        \n",
    "        self.likelihood = likelihood(self.dist,self.lambda_)\n",
    "        \n",
    "    def pdf(self):\n",
    "        return np.array([stats.poisson(self.lambda_).pmf(x) for x in range(1,4)])"
   ]
  },
  {
   "cell_type": "markdown",
   "metadata": {},
   "source": [
    "### Exemplo"
   ]
  },
  {
   "cell_type": "code",
   "execution_count": 106,
   "metadata": {},
   "outputs": [
    {
     "data": {
      "text/plain": [
       "489.9070516897125"
      ]
     },
     "execution_count": 106,
     "metadata": {},
     "output_type": "execute_result"
    }
   ],
   "source": [
    "model = NaiveModel()\n",
    "d = calcular_distribuicao(df,29,1,29,1)\n",
    "model.fit(d)\n",
    "model.likelihood"
   ]
  },
  {
   "cell_type": "code",
   "execution_count": 107,
   "metadata": {},
   "outputs": [
    {
     "name": "stdout",
     "output_type": "stream",
     "text": [
      "0.6704980842911877\n"
     ]
    },
    {
     "data": {
      "image/png": "[encoded data removed]",
      "text/plain": [
       "<Figure size 432x288 with 1 Axes>"
      ]
     },
     "metadata": {
      "needs_background": "light"
     },
     "output_type": "display_data"
    }
   ],
   "source": [
    "# estimador de maxima verossimilhanca\n",
    "lambda_ = d.mean()\n",
    "# distribuicao real\n",
    "d = pd.Series(d).value_counts() / len(d)\n",
    "# distribuicao teorica\n",
    "teor_d = np.array([stats.poisson(lambda_).pmf(x) for x in range(1,10)])\n",
    "\n",
    "print(lambda_)\n",
    "plt.bar(x=d.index,height=d.values)\n",
    "plt.plot(teor_d,color='red')\n",
    "plt.show()"
   ]
  },
  {
   "cell_type": "markdown",
   "metadata": {},
   "source": [
    "### Exemplo iterativo em t"
   ]
  },
  {
   "cell_type": "code",
   "execution_count": 108,
   "metadata": {},
   "outputs": [
    {
     "name": "stdout",
     "output_type": "stream",
     "text": [
      "t: 1 - Likelihood: 387.9923740158148\n",
      "t: 2 - Likelihood: 401.2176120046859\n",
      "t: 3 - Likelihood: 402.1257948797869\n",
      "t: 4 - Likelihood: 371.64793265863864\n",
      "t: 5 - Likelihood: 362.949775103901\n",
      "t: 6 - Likelihood: 320.26307270146685\n",
      "t: 7 - Likelihood: 300.79443759875704\n",
      "t: 8 - Likelihood: 299.34487826422236\n",
      "t: 9 - Likelihood: 281.2905944299233\n",
      "t: 10 - Likelihood: 231.92069309002844\n",
      "t: 11 - Likelihood: 230.05127625669945\n",
      "t: 12 - Likelihood: 198.322208289468\n",
      "t: 13 - Likelihood: 228.16935909783504\n",
      "t: 14 - Likelihood: 204.54932288894477\n",
      "t: 15 - Likelihood: 256.86011614680103\n",
      "t: 16 - Likelihood: 230.0512762566994\n",
      "t: 17 - Likelihood: 313.4822678191072\n",
      "t: 18 - Likelihood: 329.451017516157\n",
      "t: 19 - Likelihood: 386.0230291909479\n",
      "t: 20 - Likelihood: 428.7992931237247\n",
      "t: 21 - Likelihood: 451.8856153176727\n",
      "t: 22 - Likelihood: 489.1018576216447\n",
      "t: 23 - Likelihood: 498.696009635069\n",
      "t: 24 - Likelihood: 495.2269941695035\n",
      "t: 25 - Likelihood: 503.69313101599096\n",
      "t: 26 - Likelihood: 501.2783460834562\n",
      "t: 27 - Likelihood: 515.6953333020123\n",
      "t: 28 - Likelihood: 510.87381293959527\n",
      "t: 29 - Likelihood: 489.9070516897125\n",
      "t: 30 - Likelihood: 502.506464309277\n",
      "t: 31 - Likelihood: 492.25432110289483\n",
      "t: 32 - Likelihood: 497.34089543041387\n",
      "t: 33 - Likelihood: 491.8701784345607\n",
      "t: 34 - Likelihood: 488.6949543537119\n",
      "t: 35 - Likelihood: 473.5982250199528\n",
      "t: 36 - Likelihood: 469.4292406946613\n",
      "t: 37 - Likelihood: 455.64446577835906\n",
      "t: 38 - Likelihood: 475.10876303969906\n",
      "t: 39 - Likelihood: 466.16553396792733\n",
      "t: 40 - Likelihood: 469.4292406946614\n",
      "t: 41 - Likelihood: 472.0590241437619\n",
      "t: 42 - Likelihood: 454.40583571974867\n",
      "t: 43 - Likelihood: 471.0168300943311\n",
      "t: 44 - Likelihood: 456.2584553377509\n",
      "t: 45 - Likelihood: 452.52107262959714\n",
      "t: 46 - Likelihood: 453.1529198253799\n",
      "t: 47 - Likelihood: 416.02688848108073\n",
      "t: 48 - Likelihood: 387.99237401581496\n"
     ]
    }
   ],
   "source": [
    "for it in range(1,49):\n",
    "    model = NaiveModel()\n",
    "    d = calcular_distribuicao(df,it,1,29,1)\n",
    "    model.fit(d)\n",
    "    print('t: {} - Likelihood: {}'.format(it,model.likelihood))"
   ]
  }
 ],
 "metadata": {
  "kernelspec": {
   "display_name": "Python 3",
   "language": "python",
   "name": "python3"
  },
  "language_info": {
   "codemirror_mode": {
    "name": "ipython",
    "version": 3
   },
   "file_extension": ".py",
   "mimetype": "text/x-python",
   "name": "python",
   "nbconvert_exporter": "python",
   "pygments_lexer": "ipython3",
   "version": "3.7.3"
  },
  "latex_envs": {
   "LaTeX_envs_menu_present": true,
   "autoclose": false,
   "autocomplete": true,
   "bibliofile": "biblio.bib",
   "cite_by": "apalike",
   "current_citInitial": 1,
   "eqLabelWithNumbers": true,
   "eqNumInitial": 1,
   "hotkeys": {
    "equation": "Ctrl-E",
    "itemize": "Ctrl-I"
   },
   "labels_anchors": false,
   "latex_user_defs": false,
   "report_style_numbering": false,
   "user_envs_cfg": false
  },
  "toc": {
   "base_numbering": 1,
   "nav_menu": {},
   "number_sections": true,
   "sideBar": true,
   "skip_h1_title": false,
   "title_cell": "Table of Contents",
   "title_sidebar": "Contents",
   "toc_cell": true,
   "toc_position": {},
   "toc_section_display": true,
   "toc_window_display": true
  }
 },
 "nbformat": 4,
 "nbformat_minor": 2
}
