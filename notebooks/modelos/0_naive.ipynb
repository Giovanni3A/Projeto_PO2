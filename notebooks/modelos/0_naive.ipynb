{
 "cells": [
  {
   "cell_type": "markdown",
   "metadata": {
    "toc": true
   },
   "source": [
    "<h1>Table of Contents<span class=\"tocSkip\"></span></h1>\n",
    "<div class=\"toc\"><ul class=\"toc-item\"><li><span><a href=\"#Import-de-pacotes\" data-toc-modified-id=\"Import-de-pacotes-1\"><span class=\"toc-item-num\">1&nbsp;&nbsp;</span>Import de pacotes</a></span></li><li><span><a href=\"#Leitura-do-dado-tratado\" data-toc-modified-id=\"Leitura-do-dado-tratado-2\"><span class=\"toc-item-num\">2&nbsp;&nbsp;</span>Leitura do dado tratado</a></span></li><li><span><a href=\"#Modelo-naive\" data-toc-modified-id=\"Modelo-naive-3\"><span class=\"toc-item-num\">3&nbsp;&nbsp;</span>Modelo naive</a></span><ul class=\"toc-item\"><li><span><a href=\"#Exemplo\" data-toc-modified-id=\"Exemplo-3.1\"><span class=\"toc-item-num\">3.1&nbsp;&nbsp;</span>Exemplo</a></span></li><li><span><a href=\"#Exemplo-iterativo-em-t\" data-toc-modified-id=\"Exemplo-iterativo-em-t-3.2\"><span class=\"toc-item-num\">3.2&nbsp;&nbsp;</span>Exemplo iterativo em t</a></span></li></ul></li></ul></div>"
   ]
  },
  {
   "cell_type": "markdown",
   "metadata": {},
   "source": [
    "## Import de pacotes"
   ]
  },
  {
   "cell_type": "code",
   "execution_count": 1,
   "metadata": {},
   "outputs": [
    {
     "data": {
      "text/html": [
       "        <script type=\"text/javascript\">\n",
       "        window.PlotlyConfig = {MathJaxConfig: 'local'};\n",
       "        if (window.MathJax) {MathJax.Hub.Config({SVG: {font: \"STIX-Web\"}});}\n",
       "        if (typeof require !== 'undefined') {\n",
       "        require.undef(\"plotly\");\n",
       "        requirejs.config({\n",
       "            paths: {\n",
       "                'plotly': ['https://cdn.plot.ly/plotly-latest.min']\n",
       "            }\n",
       "        });\n",
       "        require(['plotly'], function(Plotly) {\n",
       "            window._Plotly = Plotly;\n",
       "        });\n",
       "        }\n",
       "        </script>\n",
       "        "
      ]
     },
     "metadata": {},
     "output_type": "display_data"
    }
   ],
   "source": [
    "import os,sys\n",
    "import datetime\n",
    "import numpy as np\n",
    "import pandas as pd\n",
    "import matplotlib.pyplot as plt\n",
    "from tqdm.notebook import tqdm\n",
    "from math import factorial\n",
    "\n",
    "from scipy import stats\n",
    "\n",
    "import plotly.graph_objs as go\n",
    "import plotly.express as px\n",
    "from plotly.offline import init_notebook_mode\n",
    "init_notebook_mode(connected=True)"
   ]
  },
  {
   "cell_type": "code",
   "execution_count": 2,
   "metadata": {},
   "outputs": [],
   "source": [
    "from ortools.linear_solver import pywraplp\n",
    "from ortools.sat.python import cp_model\n",
    "\n",
    "sys.path.append('../..')\n",
    "from config import *\n",
    "from utils import *"
   ]
  },
  {
   "cell_type": "markdown",
   "metadata": {},
   "source": [
    "## Leitura do dado tratado"
   ]
  },
  {
   "cell_type": "code",
   "execution_count": 3,
   "metadata": {
    "scrolled": true
   },
   "outputs": [],
   "source": [
    "df = pd.read_pickle(os.path.join(TRTD_DATA_PATH,'eventos.pkl'))"
   ]
  },
  {
   "cell_type": "markdown",
   "metadata": {},
   "source": [
    "## Modelo naive"
   ]
  },
  {
   "cell_type": "code",
   "execution_count": 4,
   "metadata": {},
   "outputs": [],
   "source": [
    "def likelihood(d,mu):\n",
    "    return sum([mu - y*np.log(mu) for y in d])\n",
    "\n",
    "class NaiveModel:\n",
    "    def __init__(self):\n",
    "        self.lambda_ = None\n",
    "        self.dist = None\n",
    "        self.likelihood = None\n",
    "    \n",
    "    def fit(self,s):\n",
    "        self.dist = s\n",
    "        self.lambda_ = s.mean()\n",
    "        \n",
    "        self.likelihood = likelihood(self.dist,self.lambda_)\n",
    "        \n",
    "    def pdf(self):\n",
    "        return np.array([stats.poisson(self.lambda_).pmf(x) for x in range(1,4)])"
   ]
  },
  {
   "cell_type": "markdown",
   "metadata": {},
   "source": [
    "### Exemplo"
   ]
  },
  {
   "cell_type": "code",
   "execution_count": null,
   "metadata": {},
   "outputs": [],
   "source": [
    "model = NaiveModel()\n",
    "d = calcular_distribuicao(df,29,1,29,1)\n",
    "model.fit(d)\n",
    "model.likelihood"
   ]
  },
  {
   "cell_type": "code",
   "execution_count": null,
   "metadata": {},
   "outputs": [],
   "source": [
    "# estimador de maxima verossimilhanca\n",
    "lambda_ = d.mean()\n",
    "# distribuicao real\n",
    "d = pd.Series(d).value_counts() / len(d)\n",
    "# distribuicao teorica\n",
    "teor_d = np.array([stats.poisson(lambda_).pmf(x) for x in range(1,10)])\n",
    "\n",
    "print(lambda_)\n",
    "plt.bar(x=d.index,height=d.values)\n",
    "plt.plot(teor_d,color='red')\n",
    "plt.show()"
   ]
  },
  {
   "cell_type": "markdown",
   "metadata": {},
   "source": [
    "### Exemplo iterativo em t"
   ]
  },
  {
   "cell_type": "code",
   "execution_count": null,
   "metadata": {},
   "outputs": [],
   "source": [
    "for it in range(1,49):\n",
    "    model = NaiveModel()\n",
    "    d = calcular_distribuicao(df,it,1,29,1)\n",
    "    model.fit(d)\n",
    "    print('t: {} - Likelihood: {}'.format(it,model.likelihood))"
   ]
  }
 ],
 "metadata": {
  "kernelspec": {
   "display_name": "Python 3",
   "language": "python",
   "name": "python3"
  },
  "language_info": {
   "codemirror_mode": {
    "name": "ipython",
    "version": 3
   },
   "file_extension": ".py",
   "mimetype": "text/x-python",
   "name": "python",
   "nbconvert_exporter": "python",
   "pygments_lexer": "ipython3",
   "version": "3.7.3"
  },
  "latex_envs": {
   "LaTeX_envs_menu_present": true,
   "autoclose": false,
   "autocomplete": true,
   "bibliofile": "biblio.bib",
   "cite_by": "apalike",
   "current_citInitial": 1,
   "eqLabelWithNumbers": true,
   "eqNumInitial": 1,
   "hotkeys": {
    "equation": "Ctrl-E",
    "itemize": "Ctrl-I"
   },
   "labels_anchors": false,
   "latex_user_defs": false,
   "report_style_numbering": false,
   "user_envs_cfg": false
  },
  "toc": {
   "base_numbering": 1,
   "nav_menu": {},
   "number_sections": true,
   "sideBar": true,
   "skip_h1_title": false,
   "title_cell": "Table of Contents",
   "title_sidebar": "Contents",
   "toc_cell": true,
   "toc_position": {},
   "toc_section_display": true,
   "toc_window_display": true
  }
 },
 "nbformat": 4,
 "nbformat_minor": 2
}
