{
 "cells": [
  {
   "cell_type": "markdown",
   "metadata": {
    "toc": true
   },
   "source": [
    "<h1>Table of Contents<span class=\"tocSkip\"></span></h1>\n",
    "<div class=\"toc\"><ul class=\"toc-item\"><li><span><a href=\"#Leitura-dos-dados-de-chamadas\" data-toc-modified-id=\"Leitura-dos-dados-de-chamadas-1\"><span class=\"toc-item-num\">1&nbsp;&nbsp;</span>Leitura dos dados de chamadas</a></span><ul class=\"toc-item\"><li><span><a href=\"#Coluna-1:-faixa-de-hora-no-dia\" data-toc-modified-id=\"Coluna-1:-faixa-de-hora-no-dia-1.1\"><span class=\"toc-item-num\">1.1&nbsp;&nbsp;</span>Coluna 1: faixa de hora no dia</a></span></li><li><span><a href=\"#Coluna-2:-tipo-de-dia\" data-toc-modified-id=\"Coluna-2:-tipo-de-dia-1.2\"><span class=\"toc-item-num\">1.2&nbsp;&nbsp;</span>Coluna 2: tipo de dia</a></span></li><li><span><a href=\"#Coluna-3:-bairro\" data-toc-modified-id=\"Coluna-3:-bairro-1.3\"><span class=\"toc-item-num\">1.3&nbsp;&nbsp;</span>Coluna 3: bairro</a></span></li><li><span><a href=\"#Coluna-4:-prioridade-da-chamada\" data-toc-modified-id=\"Coluna-4:-prioridade-da-chamada-1.4\"><span class=\"toc-item-num\">1.4&nbsp;&nbsp;</span>Coluna 4: prioridade da chamada</a></span></li><li><span><a href=\"#Coluna-5:-ocorrência\" data-toc-modified-id=\"Coluna-5:-ocorrência-1.5\"><span class=\"toc-item-num\">1.5&nbsp;&nbsp;</span>Coluna 5: ocorrência</a></span></li></ul></li><li><span><a href=\"#Criar-classe-do-modelo\" data-toc-modified-id=\"Criar-classe-do-modelo-2\"><span class=\"toc-item-num\">2&nbsp;&nbsp;</span>Criar classe do modelo</a></span></li><li><span><a href=\"#Treinar-por-100-epochs\" data-toc-modified-id=\"Treinar-por-100-epochs-3\"><span class=\"toc-item-num\">3&nbsp;&nbsp;</span>Treinar por 100 epochs</a></span></li><li><span><a href=\"#Avaliar-evolução-dos-parâmetros\" data-toc-modified-id=\"Avaliar-evolução-dos-parâmetros-4\"><span class=\"toc-item-num\">4&nbsp;&nbsp;</span>Avaliar evolução dos parâmetros</a></span></li></ul></div>"
   ]
  },
  {
   "cell_type": "code",
   "execution_count": null,
   "metadata": {},
   "outputs": [],
   "source": [
    "import sys\n",
    "import torch\n",
    "import numpy as np  \n",
    "\n",
    "from tqdm import tqdm\n",
    "\n",
    "import torch.nn as nn\n",
    "import torch.optim as optim\n",
    "import torch.nn.functional as F\n",
    "\n",
    "from torch.autograd import Variable\n",
    "\n",
    "import matplotlib.pyplot as plt"
   ]
  },
  {
   "cell_type": "code",
   "execution_count": null,
   "metadata": {},
   "outputs": [],
   "source": [
    "sys.path.append('../../..')\n",
    "from config import *\n",
    "from utils import *"
   ]
  },
  {
   "cell_type": "markdown",
   "metadata": {},
   "source": [
    "# Leitura dos dados"
   ]
  },
  {
   "cell_type": "code",
   "execution_count": null,
   "metadata": {},
   "outputs": [],
   "source": [
    "df = pd.read_pickle(os.path.join(TRTD_DATA_PATH,'eventos.pkl'))\n",
    "df.head()"
   ]
  },
  {
   "cell_type": "code",
   "execution_count": null,
   "metadata": {},
   "outputs": [],
   "source": [
    "vizinhancas = pd.read_csv(os.path.join(ENTR_DATA_PATH,'bairros_vizinhos.csv'),sep=';',encoding='latin-1',index_col=0)\n",
    "vizinhancas.head()"
   ]
  },
  {
   "source": [
    "# Tratamentos"
   ],
   "cell_type": "markdown",
   "metadata": {}
  },
  {
   "cell_type": "code",
   "execution_count": null,
   "metadata": {},
   "outputs": [],
   "source": [
    "# dropar paquetá\n",
    "vizinhancas.drop(0,inplace=True)\n",
    "df = df[df['i']!=0]"
   ]
  },
  {
   "cell_type": "code",
   "execution_count": null,
   "metadata": {},
   "outputs": [],
   "source": [
    "bairro_to_idx = df[['i','nome_bairro']].drop_duplicates().set_index('nome_bairro')['i'].to_dict()\n",
    "\n",
    "vizinhancas['NOME'] = vizinhancas['NOME'].map(bairro_to_idx)\n",
    "bairro_to_vizinhos = vizinhancas.set_index('NOME')['NEIGHBORS'].apply(lambda v:[bairro_to_idx[b.strip()] for b in v.split(',')]).to_dict()"
   ]
  },
  {
   "cell_type": "code",
   "execution_count": null,
   "metadata": {},
   "outputs": [],
   "source": [
    "idx_to_i = {idx:i for (i,idx) in enumerate(bairro_to_vizinhos.keys())}\n",
    "i_to_idx = {i:idx for (i,idx) in enumerate(bairro_to_vizinhos.keys())}"
   ]
  },
  {
   "cell_type": "code",
   "execution_count": null,
   "metadata": {},
   "outputs": [],
   "source": [
    "N_BAIRROS = len(bairro_to_idx)"
   ]
  },
  {
   "cell_type": "code",
   "execution_count": null,
   "metadata": {},
   "outputs": [],
   "source": [
    "p = 1\n",
    "g = 1\n",
    "t = 24\n",
    "\n",
    "Y = np.zeros(shape=(N_BAIRROS,522))\n",
    "\n",
    "for bairro,idx in tqdm(list(bairro_to_idx.items())):\n",
    "    i = idx_to_i[idx]\n",
    "    Y[i,:] = calcular_distribuicao(df,t,g,idx,p,tipo_discretizacao_temp=0)"
   ]
  },
  {
   "cell_type": "code",
   "execution_count": null,
   "metadata": {},
   "outputs": [],
   "source": []
  },
  {
   "cell_type": "code",
   "execution_count": null,
   "metadata": {},
   "outputs": [],
   "source": []
  },
  {
   "cell_type": "code",
   "execution_count": null,
   "metadata": {},
   "outputs": [],
   "source": []
  },
  {
   "cell_type": "code",
   "execution_count": null,
   "metadata": {},
   "outputs": [],
   "source": []
  },
  {
   "cell_type": "code",
   "execution_count": null,
   "metadata": {},
   "outputs": [],
   "source": []
  },
  {
   "cell_type": "code",
   "execution_count": null,
   "metadata": {},
   "outputs": [],
   "source": []
  }
 ],
 "metadata": {
  "kernelspec": {
   "display_name": "Python 3",
   "language": "python",
   "name": "python3"
  },
  "language_info": {
   "codemirror_mode": {
    "name": "ipython",
    "version": 3
   },
   "file_extension": ".py",
   "mimetype": "text/x-python",
   "name": "python",
   "nbconvert_exporter": "python",
   "pygments_lexer": "ipython3",
   "version": "3.7.3-final"
  },
  "latex_envs": {
   "LaTeX_envs_menu_present": true,
   "autoclose": false,
   "autocomplete": true,
   "bibliofile": "biblio.bib",
   "cite_by": "apalike",
   "current_citInitial": 1,
   "eqLabelWithNumbers": true,
   "eqNumInitial": 1,
   "hotkeys": {
    "equation": "Ctrl-E",
    "itemize": "Ctrl-I"
   },
   "labels_anchors": false,
   "latex_user_defs": false,
   "report_style_numbering": false,
   "user_envs_cfg": false
  },
  "toc": {
   "base_numbering": 1,
   "nav_menu": {},
   "number_sections": true,
   "sideBar": true,
   "skip_h1_title": false,
   "title_cell": "Table of Contents",
   "title_sidebar": "Contents",
   "toc_cell": true,
   "toc_position": {},
   "toc_section_display": true,
   "toc_window_display": true
  }
 },
 "nbformat": 4,
 "nbformat_minor": 2
}