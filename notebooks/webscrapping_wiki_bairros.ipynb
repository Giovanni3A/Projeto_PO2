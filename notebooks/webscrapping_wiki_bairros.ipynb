{
 "cells": [
  {
   "cell_type": "markdown",
   "metadata": {
    "toc": true
   },
   "source": [
    "<h1>Table of Contents<span class=\"tocSkip\"></span></h1>\n",
    "<div class=\"toc\"><ul class=\"toc-item\"></ul></div>"
   ]
  },
  {
   "cell_type": "code",
   "execution_count": 65,
   "metadata": {},
   "outputs": [],
   "source": [
    "import numpy as np\n",
    "import pandas as pd\n",
    "import matplotlib.pyplot as plt\n",
    "\n",
    "from tqdm import tqdm\n",
    "\n",
    "import urllib"
   ]
  },
  {
   "cell_type": "code",
   "execution_count": 2,
   "metadata": {},
   "outputs": [],
   "source": [
    "url = 'https://pt.wikipedia.org/wiki/Lista_de_bairros_da_cidade_do_Rio_de_Janeiro'"
   ]
  },
  {
   "cell_type": "code",
   "execution_count": 4,
   "metadata": {},
   "outputs": [],
   "source": [
    "page = urllib.request.urlopen(url)"
   ]
  },
  {
   "cell_type": "code",
   "execution_count": 5,
   "metadata": {},
   "outputs": [],
   "source": [
    "from bs4 import BeautifulSoup"
   ]
  },
  {
   "cell_type": "code",
   "execution_count": 6,
   "metadata": {},
   "outputs": [],
   "source": [
    "soup = BeautifulSoup(page,'lxml')"
   ]
  },
  {
   "cell_type": "code",
   "execution_count": 42,
   "metadata": {},
   "outputs": [],
   "source": [
    "table = soup.find('table',class_='wikitable')"
   ]
  },
  {
   "cell_type": "code",
   "execution_count": 44,
   "metadata": {},
   "outputs": [],
   "source": [
    "import re"
   ]
  },
  {
   "cell_type": "code",
   "execution_count": 88,
   "metadata": {},
   "outputs": [],
   "source": [
    "table_str = str(table)"
   ]
  },
  {
   "cell_type": "code",
   "execution_count": 113,
   "metadata": {},
   "outputs": [],
   "source": [
    "pat = r'(href=\")(/wiki/)(([A-Z]|[a-z]|[0-9]|%|_|\\(|\\)|/)+)(\" title)'\n",
    "links = ['https://pt.wikipedia.org/wiki/{}'.format(i[2]) for i in re.findall(pat,table_str)]"
   ]
  },
  {
   "cell_type": "code",
   "execution_count": 181,
   "metadata": {},
   "outputs": [
    {
     "name": "stdout",
     "output_type": "stream",
     "text": [
      "https://pt.wikipedia.org/wiki/S%C3%A3o_Crist%C3%B3v%C3%A3o_(bairro_do_Rio_de_Janeiro) 410.56\n",
      "https://pt.wikipedia.org/wiki/Benfica_(bairro_do_Rio_de_Janeiro) 173.64\n",
      "https://pt.wikipedia.org/wiki/Caju_(bairro_do_Rio_de_Janeiro) 534.75\n",
      "https://pt.wikipedia.org/wiki/Catumbi 53.95\n",
      "https://pt.wikipedia.org/wiki/Centro_(Rio_de_Janeiro) 572.31\n",
      "https://pt.wikipedia.org/wiki/Cidade_Nova_(Rio_de_Janeiro) 93.48\n",
      "https://pt.wikipedia.org/wiki/Est%C3%A1cio_(bairro) 98.04\n",
      "https://pt.wikipedia.org/wiki/Gamboa_(Rio_de_Janeiro) 111.29\n",
      "https://pt.wikipedia.org/wiki/Lapa_(bairro_do_Rio_de_Janeiro) 111.29\n",
      "https://pt.wikipedia.org/wiki/Mangueira_(Rio_de_Janeiro) 79.81\n",
      "https://pt.wikipedia.org/wiki/Paquet%C3%A1_(bairro_do_Rio_de_Janeiro) 170.57\n",
      "https://pt.wikipedia.org/wiki/Rio_Comprido_(bairro) 170.57\n",
      "https://pt.wikipedia.org/wiki/Santa_Teresa_(bairro_do_Rio_de_Janeiro) 515.71\n",
      "https://pt.wikipedia.org/wiki/Santo_Cristo_(bairro_do_Rio_de_Janeiro) 168.47\n",
      "https://pt.wikipedia.org/wiki/Sa%C3%BAde_(bairro_do_Rio_de_Janeiro) 36.38\n",
      "https://pt.wikipedia.org/wiki/Vasco_da_Gama_(bairro_do_Rio_de_Janeiro) 36.38\n",
      "https://pt.wikipedia.org/wiki/Zona_Sul_(Rio_de_Janeiro) 36.38\n",
      "https://pt.wikipedia.org/wiki/Zona_Sul_(Rio_de_Janeiro) 36.38\n",
      "https://pt.wikipedia.org/wiki/Botafogo_(bairro_do_Rio_de_Janeiro) 479.9\n",
      "https://pt.wikipedia.org/wiki/Catete_(bairro) 68.1\n",
      "https://pt.wikipedia.org/wiki/Copacabana 4.1\n",
      "https://pt.wikipedia.org/wiki/Cosme_Velho 89.25\n",
      "https://pt.wikipedia.org/wiki/Flamengo_(bairro_do_Rio_de_Janeiro) 164.63\n",
      "https://pt.wikipedia.org/wiki/G%C3%A1vea_(bairro_do_Rio_de_Janeiro) 257.96\n",
      "https://pt.wikipedia.org/wiki/Gl%C3%B3ria_(bairro_do_Rio_de_Janeiro) 114.01\n",
      "https://pt.wikipedia.org/wiki/Humait%C3%A1_(bairro_do_Rio_de_Janeiro) 105.45\n",
      "https://pt.wikipedia.org/wiki/Ipanema_(Rio_de_Janeiro) 308.49\n",
      "https://pt.wikipedia.org/wiki/Jardim_Bot%C3%A2nico_(bairro_do_Rio_de_Janeiro) 268.92\n",
      "https://pt.wikipedia.org/wiki/Lagoa_(bairro_do_Rio_de_Janeiro) 510.99\n",
      "https://pt.wikipedia.org/wiki/Laranjeiras_(bairro_do_Rio_de_Janeiro) 249.35\n",
      "https://pt.wikipedia.org/wiki/Leblon 215.31\n",
      "https://pt.wikipedia.org/wiki/Leme_(bairro_do_Rio_de_Janeiro) 97.72\n",
      "https://pt.wikipedia.org/wiki/S%C3%A3o_Conrado_(bairro_do_Rio_de_Janeiro) 648.86\n",
      "https://pt.wikipedia.org/wiki/Urca 231.9\n",
      "https://pt.wikipedia.org/wiki/Vidigal 162.14\n",
      "https://pt.wikipedia.org/wiki/Rocinha 143.72\n",
      "https://pt.wikipedia.org/wiki/Zona_Oeste_(Rio_de_Janeiro) 143.72\n",
      "https://pt.wikipedia.org/wiki/Barra_e_Jacarepagu%C3%A1 143.72\n",
      "https://pt.wikipedia.org/wiki/Anil_(bairro_do_Rio_de_Janeiro) 143.72\n",
      "https://pt.wikipedia.org/wiki/Barra_da_Tijuca_(bairro) 4.0\n",
      "https://pt.wikipedia.org/wiki/Camorim 4.0\n",
      "https://pt.wikipedia.org/wiki/Cidade_de_Deus_(bairro_do_Rio_de_Janeiro) 120.58\n",
      "https://pt.wikipedia.org/wiki/Curicica 333.96\n",
      "https://pt.wikipedia.org/wiki/Freguesia_(Jacarepagu%C3%A1) 1.0\n",
      "https://pt.wikipedia.org/wiki/Gard%C3%AAnia_Azul 1.0\n",
      "https://pt.wikipedia.org/wiki/Grumari 1.0\n",
      "https://pt.wikipedia.org/wiki/Itanhang%C3%A1_(Rio_de_Janeiro) 1.0\n",
      "https://pt.wikipedia.org/wiki/Jacarepagu%C3%A1 7579.64\n",
      "https://pt.wikipedia.org/wiki/Jo%C3%A1 7579.64\n",
      "https://pt.wikipedia.org/wiki/Pra%C3%A7a_Seca 7579.64\n",
      "https://pt.wikipedia.org/wiki/Pechincha_(bairro) 7579.64\n",
      "https://pt.wikipedia.org/wiki/Rio_das_Pedras_(bairro_do_Rio_de_Janeiro) 7579.64\n",
      "https://pt.wikipedia.org/wiki/Recreio_dos_Bandeirantes 3.0\n",
      "https://pt.wikipedia.org/wiki/Tanque_(bairro) 3.0\n",
      "https://pt.wikipedia.org/wiki/Taquara_(Rio_de_Janeiro) 1.0\n",
      "https://pt.wikipedia.org/wiki/Vargem_Grande_(bairro_do_Rio_de_Janeiro) 1.0\n",
      "https://pt.wikipedia.org/wiki/Vargem_Pequena 1.0\n",
      "https://pt.wikipedia.org/wiki/Vila_Valqueire 1.0\n",
      "https://pt.wikipedia.org/wiki/Jardim_Sulacap 1.0\n",
      "https://pt.wikipedia.org/wiki/Grande_Bangu 1.0\n",
      "https://pt.wikipedia.org/wiki/Bangu 4.0\n",
      "https://pt.wikipedia.org/wiki/Campo_dos_Afonsos 4.0\n",
      "https://pt.wikipedia.org/wiki/Deodoro_(bairro_do_Rio_de_Janeiro) 4.0\n"
     ]
    },
    {
     "ename": "IndexError",
     "evalue": "list index out of range",
     "output_type": "error",
     "traceback": [
      "\u001b[1;31m---------------------------------------------------------------------------\u001b[0m",
      "\u001b[1;31mIndexError\u001b[0m                                Traceback (most recent call last)",
      "\u001b[1;32m<ipython-input-181-86951977d997>\u001b[0m in \u001b[0;36m<module>\u001b[1;34m\u001b[0m\n\u001b[0;32m      9\u001b[0m \u001b[1;33m\u001b[0m\u001b[0m\n\u001b[0;32m     10\u001b[0m     \u001b[0mpat\u001b[0m \u001b[1;33m=\u001b[0m \u001b[1;34m'((Área total<\\/a>\\\\n<\\/td>\\\\n<td style=\"vertical-align: top; text-align: left;\">)([0-9]|,)+)'\u001b[0m\u001b[1;33m\u001b[0m\u001b[1;33m\u001b[0m\u001b[0m\n\u001b[1;32m---> 11\u001b[1;33m     \u001b[0marea\u001b[0m \u001b[1;33m=\u001b[0m \u001b[0mfloat\u001b[0m\u001b[1;33m(\u001b[0m\u001b[0mre\u001b[0m\u001b[1;33m.\u001b[0m\u001b[0mfindall\u001b[0m\u001b[1;33m(\u001b[0m\u001b[0mpat\u001b[0m\u001b[1;33m,\u001b[0m\u001b[0mstr\u001b[0m\u001b[1;33m(\u001b[0m\u001b[0mlink_table\u001b[0m\u001b[1;33m)\u001b[0m\u001b[1;33m)\u001b[0m\u001b[1;33m[\u001b[0m\u001b[1;36m0\u001b[0m\u001b[1;33m]\u001b[0m\u001b[1;33m[\u001b[0m\u001b[1;36m0\u001b[0m\u001b[1;33m]\u001b[0m\u001b[1;33m.\u001b[0m\u001b[0msplit\u001b[0m\u001b[1;33m(\u001b[0m\u001b[1;34m'>'\u001b[0m\u001b[1;33m)\u001b[0m\u001b[1;33m[\u001b[0m\u001b[1;33m-\u001b[0m\u001b[1;36m1\u001b[0m\u001b[1;33m]\u001b[0m\u001b[1;33m.\u001b[0m\u001b[0mreplace\u001b[0m\u001b[1;33m(\u001b[0m\u001b[1;34m','\u001b[0m\u001b[1;33m,\u001b[0m\u001b[1;34m'.'\u001b[0m\u001b[1;33m)\u001b[0m\u001b[1;33m)\u001b[0m\u001b[1;33m\u001b[0m\u001b[1;33m\u001b[0m\u001b[0m\n\u001b[0m\u001b[0;32m     12\u001b[0m \u001b[1;33m\u001b[0m\u001b[0m\n\u001b[0;32m     13\u001b[0m \u001b[1;33m\u001b[0m\u001b[0m\n",
      "\u001b[1;31mIndexError\u001b[0m: list index out of range"
     ]
    }
   ],
   "source": [
    "for link in links[1:]:\n",
    "    page = urllib.request.urlopen(link)\n",
    "    soup = BeautifulSoup(page,'lxml')\n",
    "    \n",
    "    for t in soup.find_all('table'):\n",
    "        if 'População' in str(t):\n",
    "            link_table = t\n",
    "            break\n",
    "    \n",
    "    pat = '((Área total<\\/a>\\\\n<\\/td>\\\\n<td style=\"vertical-align: top; text-align: left;\">)([0-9]|,)+)'\n",
    "    area = float(re.findall(pat,str(link_table))[0][0].split('>')[-1].replace(',','.'))\n",
    "    \n",
    "    \n",
    "    print(link,area)"
   ]
  },
  {
   "cell_type": "code",
   "execution_count": 164,
   "metadata": {},
   "outputs": [
    {
     "data": {
      "text/plain": [
       "'<table border=\"0\" cellpadding=\"3\" class=\"infobox_v2\" style=\"width: 20em; text-align: left; font-size: 88%;\">\\n<tbody><tr>\\n<th class=\"topo padrao\" colspan=\"2\" style=\"width:100%; background-color:red; color:#000;\"><span class=\"\"><table style=\"border-spacing: 0; border-collapse: collapse; width:100%; background-color:red; color: #000\">\\n<tbody><tr style=\"vertical-align:top;\">\\n<td style=\"text-align:center; white-space:normal; font-weight:800; font-size:80%; line-height:105%;\"><span class=\"fn org\" style=\"font-size:130%;\"><font color=\"white\">Bairro Imperial de São Cristóvão</font></span></td>\\n</tr></tbody></table></span>\\n</th></tr>\\n<tr>\\n<th colspan=\"2\" style=\"text-align:center; width:100%; text-align:center; background:#cddeff;\">\\xa0\\xa0<b>Bairro do <a href=\"/wiki/Brasil\" title=\"Brasil\">Brasil</a></b>\\xa0\\xa0\\n</th></tr>\\n<tr>\\n<td colspan=\"2\" style=\"vertical-align: top; text-align: center; border-top: 1px solid #a2a9b1;\"><div class=\"floatnone\"><a class=\"image\" href=\"/wiki/Ficheiro:Quinta_da_Boa_Vista_03.jpg\" title=\"Quinta da Boa Vista.\"><img alt=\"Quinta da Boa Vista.\" data-file-height=\"2176\" data-file-width=\"3264\" decoding=\"async\" height=\"167\" src=\"//upload.wikimedia.org/wikipedia/commons/thumb/8/8c/Quinta_da_Boa_Vista_03.jpg/250px-Quinta_da_Boa_Vista_03.jpg\" srcset=\"//upload.wikimedia.org/wikipedia/commons/thumb/8/8c/Quinta_da_Boa_Vista_03.jpg/375px-Quinta_da_Boa_Vista_03.jpg 1.5x, //upload.wikimedia.org/wikipedia/commons/thumb/8/8c/Quinta_da_Boa_Vista_03.jpg/500px-Quinta_da_Boa_Vista_03.jpg 2x\" width=\"250\"/></a></div><small>Quinta da Boa Vista.</small>\\n</td></tr>\\n<tr>\\n<th colspan=\"2\" style=\"text-align:center; border-top: 1px solid #a2a9b1;\">Localização\\n</th></tr>\\n<tr>\\n<td colspan=\"2\" style=\"vertical-align: top; text-align: center;\"></td></tr><tr class=\"mergedrow\">\\n<td colspan=\"2\" style=\"text-align:center;\"><div class=\"floatnone\"><a class=\"image\" href=\"/wiki/Ficheiro:S%C3%A3o_Crist%C3%B3v%C3%A3o.svg\"><img alt=\"São Cristóvão.svg\" data-file-height=\"685\" data-file-width=\"956\" decoding=\"async\" height=\"179\" src=\"//upload.wikimedia.org/wikipedia/commons/thumb/1/1d/S%C3%A3o_Crist%C3%B3v%C3%A3o.svg/250px-S%C3%A3o_Crist%C3%B3v%C3%A3o.svg.png\" srcset=\"//upload.wikimedia.org/wikipedia/commons/thumb/1/1d/S%C3%A3o_Crist%C3%B3v%C3%A3o.svg/375px-S%C3%A3o_Crist%C3%B3v%C3%A3o.svg.png 1.5x, //upload.wikimedia.org/wikipedia/commons/thumb/1/1d/S%C3%A3o_Crist%C3%B3v%C3%A3o.svg/500px-S%C3%A3o_Crist%C3%B3v%C3%A3o.svg.png 2x\" width=\"250\"/></a></div>\\n</td></tr>\\n<tr>\\n<td scope=\"row\" style=\"vertical-align: top; text-align: left; font-weight:bold;\"><a href=\"/wiki/Distritos_do_Brasil\" title=\"Distritos do Brasil\">Distrito</a>\\n</td>\\n<td style=\"vertical-align: top; text-align: left;\"><a href=\"/wiki/Centro_e_Centro_Hist%C3%B3rico\" title=\"Centro e Centro Histórico\">Centro e Centro Histórico</a><sup class=\"reference\" id=\"cite_ref-1\"><a href=\"#cite_note-1\"><span>[</span>1<span>]</span></a></sup>\\n</td></tr>\\n<tr>\\n<th colspan=\"2\" style=\"text-align:center; border-top: 1px solid #a2a9b1;\">História\\n</th></tr>\\n<tr>\\n<td scope=\"row\" style=\"vertical-align: top; text-align: left; font-weight:bold;\">Criado em\\n</td>\\n<td style=\"vertical-align: top; text-align: left;\">23 de julho de 1981<sup class=\"reference\" id=\"cite_ref-portalgeo.rio.rj.gov.br_2-0\"><a href=\"#cite_note-portalgeo.rio.rj.gov.br-2\"><span>[</span>2<span>]</span></a></sup>\\n</td></tr>\\n<tr>\\n<th colspan=\"2\" style=\"text-align:center; border-top: 1px solid #a2a9b1;\">Características geográficas\\n</th></tr>\\n<tr>\\n<td scope=\"row\" style=\"vertical-align: top; text-align: left; font-weight:bold;\"><a href=\"/wiki/Territ%C3%B3rio\" title=\"Território\">Área total</a>\\n</td>\\n<td style=\"vertical-align: top; text-align: left;\">410,56 <a href=\"/wiki/Hectare\" title=\"Hectare\">ha</a> <span style=\"font-size:85%;\">(em 2003)</span><sup class=\"reference\" id=\"cite_ref-portalgeo.rio.rj.gov.br_2-1\"><a href=\"#cite_note-portalgeo.rio.rj.gov.br-2\"><span>[</span>2<span>]</span></a></sup>\\n</td></tr>\\n<tr>\\n<td scope=\"row\" style=\"vertical-align: top; text-align: left; font-weight:bold;\"><a href=\"/wiki/Popula%C3%A7%C3%A3o\" title=\"População\">População total</a>\\n</td>\\n<td style=\"vertical-align: top; text-align: left;\">26,510 <span style=\"font-size:85%;\">(em 2\\xa0010)</span><sup class=\"reference\" id=\"cite_ref-3\"><a href=\"#cite_note-3\"><span>[</span>3<span>]</span></a></sup> hab.\\n</td></tr>\\n<tr>\\n<td scope=\"row\" style=\"vertical-align: top; text-align: left; font-weight:bold;\">\\xa0• <a href=\"/wiki/%C3%8Dndice_de_Desenvolvimento_Humano\" title=\"Índice de Desenvolvimento Humano\">IDH</a>\\n</td>\\n<td style=\"vertical-align: top; text-align: left;\"><font color=\"#009900\">0,833</font><sup class=\"reference\" id=\"cite_ref-4\"><a href=\"#cite_note-4\"><span>[</span>4<span>]</span></a></sup><span style=\"font-size:85%;\">(em 2000)</span>\\n</td></tr>\\n<tr>\\n<th colspan=\"2\" style=\"text-align:center; border-top: 1px solid #a2a9b1;\">Outras informações\\n</th></tr>\\n<tr>\\n<td scope=\"row\" style=\"vertical-align: top; text-align: left; font-weight:bold;\">Domicílios\\n</td>\\n<td style=\"vertical-align: top; text-align: left;\">9.991 <span style=\"font-size:85%;\">(em 2010)</span>\\n</td></tr>\\n<tr>\\n<td scope=\"row\" style=\"vertical-align: top; text-align: left; font-weight:bold;\">Limites\\n</td>\\n<td style=\"vertical-align: top; text-align: left;\"><small><a href=\"/wiki/Santo_Cristo_(bairro_do_Rio_de_Janeiro)\" title=\"Santo Cristo (bairro do Rio de Janeiro)\">Santo Cristo</a>, <a href=\"/wiki/Pra%C3%A7a_da_Bandeira_(bairro_do_Rio_de_Janeiro)\" title=\"Praça da Bandeira (bairro do Rio de Janeiro)\">Praça da Bandeira</a>,<br/> <a href=\"/wiki/Maracan%C3%A3_(bairro_do_Rio_de_Janeiro)\" title=\"Maracanã (bairro do Rio de Janeiro)\">Maracanã</a>, <a class=\"mw-redirect\" href=\"/wiki/Mangueira_(bairro_do_Rio_de_Janeiro)\" title=\"Mangueira (bairro do Rio de Janeiro)\">Mangueira</a>, <a class=\"mw-redirect\" href=\"/wiki/Benfica_(bairro_do_Rio_de_Janeiro)\" title=\"Benfica (bairro do Rio de Janeiro)\">Benfica</a>,<br/> <a href=\"/wiki/Caju_(bairro_do_Rio_de_Janeiro)\" title=\"Caju (bairro do Rio de Janeiro)\">Caju</a> e <a href=\"/wiki/Vasco_da_Gama_(bairro_do_Rio_de_Janeiro)\" title=\"Vasco da Gama (bairro do Rio de Janeiro)\">Vasco da Gama</a> </small><sup class=\"reference\" id=\"cite_ref-Bairros_do_Rio_5-0\"><a href=\"#cite_note-Bairros_do_Rio-5\"><span>[</span>5<span>]</span></a></sup>\\n</td></tr>\\n<tr>\\n<td scope=\"row\" style=\"vertical-align: top; text-align: left; font-weight:bold;\"><a href=\"/wiki/Subprefeitura\" title=\"Subprefeitura\">Subprefeitura</a>\\n</td>\\n<td style=\"vertical-align: top; text-align: left;\"><a href=\"/wiki/Centro_e_Centro_Hist%C3%B3rico\" title=\"Centro e Centro Histórico\">Centro e Centro Histórico</a><sup class=\"reference\" id=\"cite_ref-1\"><a href=\"#cite_note-1\"><span>[</span>1<span>]</span></a></sup>\\n</td></tr>\\n<tr>\\n<td colspan=\"2\" style=\"text-align:center; background-color: #D8E2EE\"><small><i><small>Fonte: <i style=\"color: gray; font-size: smaller;\">Não disponível</i></small></i></small>\\n</td></tr>\\n</tbody></table>'"
      ]
     },
     "execution_count": 164,
     "metadata": {},
     "output_type": "execute_result"
    }
   ],
   "source": [
    "str(link_table)"
   ]
  },
  {
   "cell_type": "code",
   "execution_count": 178,
   "metadata": {
    "scrolled": false
   },
   "outputs": [
    {
     "data": {
      "text/plain": [
       "410.56"
      ]
     },
     "execution_count": 178,
     "metadata": {},
     "output_type": "execute_result"
    }
   ],
   "source": []
  }
 ],
 "metadata": {
  "kernelspec": {
   "display_name": "Python 3",
   "language": "python",
   "name": "python3"
  },
  "language_info": {
   "codemirror_mode": {
    "name": "ipython",
    "version": 3
   },
   "file_extension": ".py",
   "mimetype": "text/x-python",
   "name": "python",
   "nbconvert_exporter": "python",
   "pygments_lexer": "ipython3",
   "version": "3.7.3"
  },
  "latex_envs": {
   "LaTeX_envs_menu_present": true,
   "autoclose": false,
   "autocomplete": true,
   "bibliofile": "biblio.bib",
   "cite_by": "apalike",
   "current_citInitial": 1,
   "eqLabelWithNumbers": true,
   "eqNumInitial": 1,
   "hotkeys": {
    "equation": "Ctrl-E",
    "itemize": "Ctrl-I"
   },
   "labels_anchors": false,
   "latex_user_defs": false,
   "report_style_numbering": false,
   "user_envs_cfg": false
  },
  "toc": {
   "base_numbering": 1,
   "nav_menu": {},
   "number_sections": true,
   "sideBar": true,
   "skip_h1_title": false,
   "title_cell": "Table of Contents",
   "title_sidebar": "Contents",
   "toc_cell": true,
   "toc_position": {},
   "toc_section_display": true,
   "toc_window_display": true
  }
 },
 "nbformat": 4,
 "nbformat_minor": 2
}
